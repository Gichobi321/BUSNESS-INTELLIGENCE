{
 "cells": [
  {
   "cell_type": "code",
   "execution_count": 2,
   "id": "f531ead1-9191-4608-bc17-c2b2acbdf1b9",
   "metadata": {},
   "outputs": [
    {
     "data": {
      "text/html": [
       "<div>\n",
       "<style scoped>\n",
       "    .dataframe tbody tr th:only-of-type {\n",
       "        vertical-align: middle;\n",
       "    }\n",
       "\n",
       "    .dataframe tbody tr th {\n",
       "        vertical-align: top;\n",
       "    }\n",
       "\n",
       "    .dataframe thead th {\n",
       "        text-align: right;\n",
       "    }\n",
       "</style>\n",
       "<table border=\"1\" class=\"dataframe\">\n",
       "  <thead>\n",
       "    <tr style=\"text-align: right;\">\n",
       "      <th></th>\n",
       "      <th>S/N</th>\n",
       "      <th>Program</th>\n",
       "      <th>Reported</th>\n",
       "      <th>Registered</th>\n",
       "      <th>% Conversion</th>\n",
       "    </tr>\n",
       "  </thead>\n",
       "  <tbody>\n",
       "    <tr>\n",
       "      <th>0</th>\n",
       "      <td>1</td>\n",
       "      <td>DBAM</td>\n",
       "      <td>8</td>\n",
       "      <td>8</td>\n",
       "      <td>100.00%</td>\n",
       "    </tr>\n",
       "    <tr>\n",
       "      <th>1</th>\n",
       "      <td>2</td>\n",
       "      <td>MBA</td>\n",
       "      <td>21</td>\n",
       "      <td>17</td>\n",
       "      <td>80.95%</td>\n",
       "    </tr>\n",
       "    <tr>\n",
       "      <th>2</th>\n",
       "      <td>3</td>\n",
       "      <td>BAF</td>\n",
       "      <td>408</td>\n",
       "      <td>378</td>\n",
       "      <td>92.65%</td>\n",
       "    </tr>\n",
       "    <tr>\n",
       "      <th>3</th>\n",
       "      <td>4</td>\n",
       "      <td>BPST</td>\n",
       "      <td>18</td>\n",
       "      <td>17</td>\n",
       "      <td>94.44%</td>\n",
       "    </tr>\n",
       "    <tr>\n",
       "      <th>4</th>\n",
       "      <td>5</td>\n",
       "      <td>BPT</td>\n",
       "      <td>40</td>\n",
       "      <td>38</td>\n",
       "      <td>95.00%</td>\n",
       "    </tr>\n",
       "  </tbody>\n",
       "</table>\n",
       "</div>"
      ],
      "text/plain": [
       "   S/N Program  Reported  Registered % Conversion\n",
       "0    1    DBAM         8           8      100.00%\n",
       "1    2     MBA        21          17       80.95%\n",
       "2    3     BAF       408         378       92.65%\n",
       "3    4    BPST        18          17       94.44%\n",
       "4    5     BPT        40          38       95.00%"
      ]
     },
     "execution_count": 2,
     "metadata": {},
     "output_type": "execute_result"
    }
   ],
   "source": [
    "import pandas as pd\n",
    "\n",
    "file_path = 'admissions_data.csv'\n",
    "admissions_data = pd.read_csv(file_path)\n",
    "\n",
    "admissions_data.head()"
   ]
  },
  {
   "cell_type": "code",
   "execution_count": 4,
   "id": "a80447c1-66eb-410f-85d9-ad84643cbb32",
   "metadata": {},
   "outputs": [
    {
     "data": {
      "text/plain": [
       "(             S/N    Reported  Registered  % Conversion\n",
       " count  46.000000   46.000000   46.000000     46.000000\n",
       " mean   23.500000  149.739130  140.956522     94.199130\n",
       " std    13.422618  161.786751  152.553227      3.820956\n",
       " min     1.000000    1.000000    1.000000     80.950000\n",
       " 25%    12.250000   27.750000   26.000000     92.217500\n",
       " 50%    23.500000   96.500000   90.500000     94.640000\n",
       " 75%    34.750000  215.250000  204.250000     96.060000\n",
       " max    46.000000  614.000000  587.000000    100.000000,\n",
       "     S/N Program  Reported  Registered  % Conversion\n",
       " 0     1    DBAM         8           8         100.0\n",
       " 15   16     BAS        19          19         100.0\n",
       " 33   34     DDM         5           5         100.0\n",
       " 32   33     DDA        11          11         100.0\n",
       " 29   30     DCP        30          30         100.0,\n",
       "     S/N Program  Reported  Registered  % Conversion\n",
       " 10   11     BED       614         587         95.60\n",
       " 19   20   BSCIT       568         523         92.08\n",
       " 42   43     DSE       485         465         95.88\n",
       " 11   12    BIRD       445         427         95.96\n",
       " 38   39     DIT       410         377         91.95)"
      ]
     },
     "execution_count": 4,
     "metadata": {},
     "output_type": "execute_result"
    }
   ],
   "source": [
    "admissions_data['% Conversion'] = admissions_data['% Conversion'].str.rstrip('%').astype(float)\n",
    "\n",
    "admissions_summary = admissions_data.describe()\n",
    "\n",
    "sorted_by_conversion = admissions_data.sort_values(by='% Conversion', ascending=False)\n",
    "\n",
    "sorted_by_reported = admissions_data.sort_values(by='Reported', ascending=False)\n",
    "\n",
    "admissions_summary, sorted_by_conversion.head(), sorted_by_reported.head()"
   ]
  },
  {
   "cell_type": "code",
   "execution_count": null,
   "id": "3df32751-1bab-4a5a-9a62-0bb65caa0e20",
   "metadata": {},
   "outputs": [],
   "source": []
  }
 ],
 "metadata": {
  "kernelspec": {
   "display_name": "Python 3 (ipykernel)",
   "language": "python",
   "name": "python3"
  },
  "language_info": {
   "codemirror_mode": {
    "name": "ipython",
    "version": 3
   },
   "file_extension": ".py",
   "mimetype": "text/x-python",
   "name": "python",
   "nbconvert_exporter": "python",
   "pygments_lexer": "ipython3",
   "version": "3.11.7"
  }
 },
 "nbformat": 4,
 "nbformat_minor": 5
}
